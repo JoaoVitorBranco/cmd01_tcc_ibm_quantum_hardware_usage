{
 "cells": [
  {
   "cell_type": "markdown",
   "metadata": {},
   "source": [
    "# 0. Imports"
   ]
  },
  {
   "cell_type": "code",
   "execution_count": 99,
   "metadata": {},
   "outputs": [],
   "source": [
    "from dotenv import load_dotenv\n",
    "import os\n",
    "from qiskit_ibm_runtime import QiskitRuntimeService, Sampler\n",
    "from qiskit.visualization import plot_histogram\n",
    "from qiskit.circuit.library import UnitaryGate, QFT\n",
    "from qiskit import QuantumCircuit, QuantumRegister, ClassicalRegister, transpile\n",
    "from qiskit_aer import Aer\n",
    "import matplotlib.pyplot as plt\n",
    "from fractions import Fraction\n",
    "from math import floor, gcd, log, ceil\n",
    "import numpy as np\n",
    "import datetime\n"
   ]
  },
  {
   "cell_type": "markdown",
   "metadata": {},
   "source": [
    "# 1. Configurações Iniciais"
   ]
  },
  {
   "cell_type": "markdown",
   "metadata": {},
   "source": [
    "## 1.1. Carrega variáveis de ambiente"
   ]
  },
  {
   "cell_type": "code",
   "execution_count": 100,
   "metadata": {},
   "outputs": [],
   "source": [
    "load_dotenv()\n",
    "API_KEY = os.getenv('IBM_QUANTUM_API_KEY')\n",
    "INSTANCE_CRN = os.getenv('IBM_QUANTUM_INSTANCE_CRN')"
   ]
  },
  {
   "cell_type": "markdown",
   "metadata": {},
   "source": [
    "## 1.2. Configura conta da IBM Cloud com instância especificada"
   ]
  },
  {
   "cell_type": "code",
   "execution_count": 101,
   "metadata": {},
   "outputs": [],
   "source": [
    "QiskitRuntimeService.save_account(\n",
    "    channel=\"ibm_quantum_platform\",\n",
    "    token=API_KEY,\n",
    "    instance=INSTANCE_CRN, \n",
    "    overwrite=True,\n",
    "    set_as_default=True\n",
    ")"
   ]
  },
  {
   "cell_type": "markdown",
   "metadata": {},
   "source": [
    "# 2. Códigos"
   ]
  },
  {
   "cell_type": "markdown",
   "metadata": {},
   "source": [
    "## 2.1. Roda medição de um qubit aplicado a uma porta Hadamard"
   ]
  },
  {
   "cell_type": "code",
   "execution_count": 102,
   "metadata": {},
   "outputs": [
    {
     "name": "stdout",
     "output_type": "stream",
     "text": [
      "Status: QUEUED\n"
     ]
    }
   ],
   "source": [
    "# 1. Inicializar serviço (assume que você já autenticou com save_account)\n",
    "service = QiskitRuntimeService()\n",
    "\n",
    "# 2. Selecionar o backend real menos ocupado\n",
    "backend = service.least_busy(operational=True, simulator=False)\n",
    "\n",
    "# 3. Criar circuito simples (e medir)\n",
    "qc = QuantumCircuit(1)\n",
    "qc.h(0)\n",
    "qc.measure_all()\n",
    "\n",
    "# 4. Transpilar para o backend\n",
    "qc_isa = transpile(qc, backend=backend)\n",
    "\n",
    "# 5. Criar Sampler informando o backend — usando o modo moderno:\n",
    "sampler = Sampler(mode=backend)\n",
    "\n",
    "# 6. Enviar o job (como lista de circuitos)\n",
    "job = sampler.run([qc_isa], shots=1024)\n",
    "job_id = job.job_id()\n",
    "# print(\"Job ID:\", job_id)\n",
    "print(\"Status:\", job.status())"
   ]
  },
  {
   "cell_type": "code",
   "execution_count": 104,
   "metadata": {},
   "outputs": [
    {
     "name": "stdout",
     "output_type": "stream",
     "text": [
      "Status: DONE\n",
      "Counts: {'0': 507, '1': 517}\n"
     ]
    },
    {
     "data": {
      "image/png": "[encoded data removed]",
      "text/plain": [
       "<Figure size 640x480 with 1 Axes>"
      ]
     },
     "metadata": {},
     "output_type": "display_data"
    }
   ],
   "source": [
    "job = service.job(job_id)\n",
    "print(\"Status:\", job.status())\n",
    "\n",
    "if job.status() == \"DONE\":\n",
    "    # 7. Capturar o resultado\n",
    "    result = job.result()\n",
    "    counts = result[0].data.meas.get_counts()\n",
    "\n",
    "    # 8. Visualizar resultados\n",
    "    print(\"Counts:\", counts)\n",
    "    plt.hist(counts)\n",
    "    plt.title(\"Histogram of Measurement Counts\")\n",
    "    plt.xlabel(\"Measurement Outcomes\")\n",
    "    plt.ylabel(\"Counts\")\n",
    "\n",
    "    plt.show()\n",
    "\n",
    "else:\n",
    "    print(\"Job not completed\")"
   ]
  },
  {
   "cell_type": "markdown",
   "metadata": {},
   "source": [
    "## 2.2. Descobrindo número de qubits do backend utilizado"
   ]
  },
  {
   "cell_type": "code",
   "execution_count": 105,
   "metadata": {},
   "outputs": [
    {
     "name": "stdout",
     "output_type": "stream",
     "text": [
      "Backend: ibm_torino,\tQubits: 133,\tOperational: True\n",
      "Backend: ibm_brisbane,\tQubits: 127,\tOperational: True\n"
     ]
    }
   ],
   "source": [
    "backends = service.backends(simulator=False, operational=True)\n",
    "for backend in backends:\n",
    "    print(f\"Backend: {backend.name},\\tQubits: {backend.num_qubits},\\tOperational: {backend.status().operational}\")\n"
   ]
  },
  {
   "cell_type": "markdown",
   "metadata": {},
   "source": [
    "## 2.3. Criando código do algoritmo de Shor"
   ]
  },
  {
   "cell_type": "markdown",
   "metadata": {},
   "source": [
    "### 2.3.1. Frações Contínuas"
   ]
  },
  {
   "cell_type": "code",
   "execution_count": 106,
   "metadata": {},
   "outputs": [],
   "source": [
    "def continued_fraction(x, max_denominator):\n",
    "    \"\"\"Aproxima x como uma fração com denominador ≤ max_denominator\"\"\"\n",
    "    frac = Fraction(x).limit_denominator(max_denominator)\n",
    "    return frac.numerator, frac.denominator\n"
   ]
  },
  {
   "cell_type": "markdown",
   "metadata": {},
   "source": [
    "### 2.3.2. Porta de operação modular"
   ]
  },
  {
   "cell_type": "code",
   "execution_count": 108,
   "metadata": {},
   "outputs": [],
   "source": [
    "def c_mod_mult_gate(b, N):\n",
    "  \"\"\"\n",
    "  Retorna a versão controlada da porta modular que implementa |x⟩ → |b·x mod N⟩\n",
    "  controlada por 1 qubit.\n",
    "\n",
    "  Parâmetros:\n",
    "  - b: inteiro multiplicador (coprimo de N)\n",
    "  - N: inteiro módulo\n",
    "\n",
    "  Retorna:\n",
    "  - Uma UnitaryGate controlada (1 qubit de controle)\n",
    "  \"\"\"\n",
    "  if gcd(b, N) > 1:\n",
    "      raise ValueError(f\"Erro: gcd({b}, {N}) > 1 — b e N devem ser coprimos.\")\n",
    "\n",
    "  n = floor(log(N - 1, 2)) + 1  # Número de qubits necessários para representar N\n",
    "  U = np.zeros((2**n, 2**n))\n",
    "\n",
    "  for x in range(N):\n",
    "      U[b * x % N][x] = 1\n",
    "  for x in range(N, 2**n):\n",
    "      U[x][x] = 1  # Mapeia fora do domínio válido para identidade\n",
    "\n",
    "  base_gate = UnitaryGate(U, label=f\"{b}×mod{N}\")\n",
    "  controlled_gate = base_gate.control()  # Cria a versão com 1 qubit de controle\n",
    "\n",
    "  return controlled_gate"
   ]
  },
  {
   "cell_type": "markdown",
   "metadata": {},
   "source": [
    "### 2.3.3. Define circuito de *Order Finding*"
   ]
  },
  {
   "cell_type": "code",
   "execution_count": 109,
   "metadata": {},
   "outputs": [],
   "source": [
    "def order_finding_circuit(N, a, m=None, view_circuit=False):\n",
    "    if m is None:\n",
    "      m = ceil(2 * log(N, 2)) + 1  # Número de qubits de controle\n",
    "    n = floor(log(N - 1, 2)) + 1  # Número de qubits de dados (registrador modular)\n",
    "\n",
    "    # Registradores\n",
    "    q_control = QuantumRegister(m, 'ctrl')\n",
    "    q_data = QuantumRegister(n, 'data')\n",
    "    c_out = ClassicalRegister(m, 'c')\n",
    "    qc = QuantumCircuit(q_control, q_data, c_out)\n",
    "\n",
    "    # Estado inicial |1⟩ no registrador de dados\n",
    "    qc.x(q_data[0])\n",
    "\n",
    "    # Hadamard em todos os qubits de controle\n",
    "    for i in range(m):\n",
    "        qc.h(q_control[i])\n",
    "\n",
    "    # Aplicar operações controladas: a^(2^i) mod N\n",
    "    for i in range(m):\n",
    "        exponent = 2 ** i\n",
    "        mod_gate = c_mod_mult_gate(pow(a, exponent, N), N)\n",
    "        qc.append(mod_gate, [q_control[i]] + list(q_data))\n",
    "\n",
    "    # Aplicar QFT† no controle\n",
    "    qft_dagger = QFT(num_qubits=m, inverse=True, do_swaps=True).decompose()\n",
    "    qc.append(qft_dagger, q_control)\n",
    "\n",
    "    # Medir o registrador de controle\n",
    "    qc.measure(q_control, c_out)\n",
    "\n",
    "    if view_circuit:\n",
    "        display(qc.draw(output='mpl'))\n",
    "\n",
    "    return qc"
   ]
  },
  {
   "cell_type": "markdown",
   "metadata": {},
   "source": [
    "### 2.3.4. Executa o problema de *Order Finding* no computador quântico"
   ]
  },
  {
   "cell_type": "code",
   "execution_count": 110,
   "metadata": {},
   "outputs": [],
   "source": [
    "def order_finding(N, a, backend = None, shots = 1000): \n",
    "    \"\"\"_summary_\n",
    "    N: inteiro positivo (modulus)\n",
    "    a: inteiro positivo (multiplicador)\n",
    "    backend: backend do Qiskit (opcional, pode ser None para ser simulação)\n",
    "    shots: número de execuções do circuito (default: 1000)\n",
    "    \n",
    "    Resultado:\n",
    "    - Retorna o objeto \"job\".\n",
    "    \"\"\"\n",
    "    # Calcula o número de qubits de controle necessário\n",
    "    m = ceil(2 * log(N, 2)) + 1  # Número de qubits de controle teórico\n",
    "    print(f\"Calculando: m = {m}\")\n",
    "    \n",
    "    # Cria o circuito de busca de ordem\n",
    "    qc = order_finding_circuit(N=N, a=a, m=m, view_circuit=False)\n",
    "    \n",
    "    # Se backend não for fornecido, usa o simulador\n",
    "    if backend is None:\n",
    "\n",
    "        \n",
    "        # === Simulação local ===\n",
    "        backend = Aer.get_backend('qasm_simulator')\n",
    "        transpiled = transpile(qc, backend)\n",
    "        job = backend.run(transpiled, shots=shots, memory=True)\n",
    "\n",
    "        return job\n",
    "    \n",
    "    else:\n",
    "        # === Execução em backend real ===\n",
    "        qc_transp = transpile(qc, backend=backend)\n",
    "\n",
    "        # === Criar Sampler informando o backend — usando o modo moderno ===\n",
    "        sampler = Sampler(mode=backend)\n",
    "\n",
    "        # === Enviar o job (como lista de circuitos) ===\n",
    "        job = sampler.run([qc_transp], shots=shots)\n",
    "        # print(\"Job ID:\", job.job_id())\n",
    "        print(\"Status:\", job.status())     \n",
    "        \n",
    "        return job"
   ]
  },
  {
   "cell_type": "code",
   "execution_count": 83,
   "metadata": {},
   "outputs": [],
   "source": [
    "def process_job(job, m, N, a, real=None):\n",
    "    result = job.result()\n",
    "\n",
    "    if real is None:\n",
    "        # === Simulação local ===\n",
    "        print(\"Processando resultado da simulação local...\")\n",
    "        readings = result.get_counts()\n",
    "    else:\n",
    "        print(\"Processando resultado do backend...\")\n",
    "        pub = result[0]\n",
    "        data_bin = pub.data\n",
    "        bitarray = data_bin.c\n",
    "        readings = bitarray.get_counts()\n",
    "        \n",
    "\n",
    "    measured_bin = max(readings, key=readings.get) # Leitura mais significativa\n",
    "    measured_int = int(measured_bin, 2)\n",
    "\n",
    "    # === Calcular fase observada ===\n",
    "    phase = measured_int / (2 ** m)\n",
    "\n",
    "    # === Estimar r com frações contínuas ===\n",
    "    print(f\"Phase encontrada = {phase}, para N = {N} e a = {a}\")\n",
    "    r = continued_fraction(phase, N)[1]\n",
    "    \n",
    "    return r"
   ]
  },
  {
   "cell_type": "code",
   "execution_count": 111,
   "metadata": {},
   "outputs": [
    {
     "name": "stdout",
     "output_type": "stream",
     "text": [
      "Calculando: m = 9\n"
     ]
    },
    {
     "name": "stderr",
     "output_type": "stream",
     "text": [
      "C:\\Users\\PC\\AppData\\Local\\Temp\\ipykernel_12060\\610234522.py:26: DeprecationWarning: The class ``qiskit.circuit.library.basis_change.qft.QFT`` is deprecated as of Qiskit 2.1. It will be removed in Qiskit 3.0. ('Use qiskit.circuit.library.QFTGate or qiskit.synthesis.qft.synth_qft_full instead, for access to all previous arguments.',)\n",
      "  qft_dagger = QFT(num_qubits=m, inverse=True, do_swaps=True).decompose()\n"
     ]
    },
    {
     "name": "stdout",
     "output_type": "stream",
     "text": [
      "Status: QUEUED\n",
      "Status: RUNNING\n"
     ]
    }
   ],
   "source": [
    "# Selecionar novamente o backend real menos ocupado\n",
    "backend = service.least_busy(operational=True, simulator=False)\n",
    "\n",
    "# Executar a busca de ordem com N=15, a=7, e o backend selecionado\n",
    "job = order_finding(N=15, a=7, backend=backend, shots=10000)\n",
    "job_id = job.job_id()\n",
    "# print(\"Job ID:\", job_id)\n",
    "print(\"Status:\", job.status())"
   ]
  },
  {
   "cell_type": "code",
   "execution_count": 119,
   "metadata": {},
   "outputs": [
    {
     "name": "stdout",
     "output_type": "stream",
     "text": [
      "Status: DONE\n",
      "Processando resultado do backend...\n",
      "Phase encontrada = 0.31640625, para N = 15 e a = 7\n",
      "Valor estimado de r: 13\n"
     ]
    }
   ],
   "source": [
    "job = service.job(job_id)\n",
    "print(\"Status:\", job.status())\n",
    "\n",
    "if job.status() == \"DONE\":\n",
    "    # Processa o job e calcula o valor de r\n",
    "    r = process_job(job, m=ceil(2 * log(15, 2)) + 1, N=15, a=7, real=True)\n",
    "    print(f\"Valor estimado de r: {r}\")\n",
    "\n",
    "else:\n",
    "    print(\"Job not completed\")"
   ]
  },
  {
   "cell_type": "markdown",
   "metadata": {},
   "source": [
    "# 3. Referências"
   ]
  },
  {
   "cell_type": "code",
   "execution_count": 86,
   "metadata": {},
   "outputs": [
    {
     "name": "stdout",
     "output_type": "stream",
     "text": [
      "https://quantum.cloud.ibm.com/instances\n",
      "https://quantum.cloud.ibm.com/docs/en/api/qiskit-ibm-runtime/ibm-backend\n"
     ]
    }
   ],
   "source": [
    "print(\"https://quantum.cloud.ibm.com/instances\")\n",
    "print(\"https://quantum.cloud.ibm.com/docs/en/api/qiskit-ibm-runtime/ibm-backend\")"
   ]
  }
 ],
 "metadata": {
  "kernelspec": {
   "display_name": "venv",
   "language": "python",
   "name": "python3"
  },
  "language_info": {
   "codemirror_mode": {
    "name": "ipython",
    "version": 3
   },
   "file_extension": ".py",
   "mimetype": "text/x-python",
   "name": "python",
   "nbconvert_exporter": "python",
   "pygments_lexer": "ipython3",
   "version": "3.13.7"
  }
 },
 "nbformat": 4,
 "nbformat_minor": 2
}
