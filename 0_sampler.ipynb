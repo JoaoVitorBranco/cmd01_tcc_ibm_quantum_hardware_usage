{
 "cells": [
  {
   "cell_type": "markdown",
   "metadata": {},
   "source": [
    "# 0. Imports"
   ]
  },
  {
   "cell_type": "code",
   "execution_count": 1,
   "metadata": {},
   "outputs": [],
   "source": [
    "from dotenv import load_dotenv\n",
    "import os\n",
    "from qiskit_ibm_runtime import QiskitRuntimeService, Sampler\n",
    "from qiskit.visualization import plot_histogram\n",
    "from qiskit.circuit.library import UnitaryGate, QFT\n",
    "from qiskit import QuantumCircuit, QuantumRegister, ClassicalRegister, transpile\n",
    "from qiskit_aer import Aer\n",
    "import matplotlib.pyplot as plt\n",
    "from fractions import Fraction\n",
    "from math import floor, gcd, log, ceil\n",
    "import numpy as np\n",
    "import datetime\n"
   ]
  },
  {
   "cell_type": "markdown",
   "metadata": {},
   "source": [
    "# 1. Configurações Iniciais"
   ]
  },
  {
   "cell_type": "markdown",
   "metadata": {},
   "source": [
    "## 1.1. Carrega variáveis de ambiente"
   ]
  },
  {
   "cell_type": "code",
   "execution_count": 2,
   "metadata": {},
   "outputs": [],
   "source": [
    "load_dotenv()\n",
    "API_KEY = os.getenv('IBM_QUANTUM_API_KEY')\n",
    "INSTANCE_CRN = os.getenv('IBM_QUANTUM_INSTANCE_CRN')"
   ]
  },
  {
   "cell_type": "markdown",
   "metadata": {},
   "source": [
    "## 1.2. Configura conta da IBM Cloud com instância especificada"
   ]
  },
  {
   "cell_type": "code",
   "execution_count": 4,
   "metadata": {},
   "outputs": [],
   "source": [
    "QiskitRuntimeService.save_account(\n",
    "    channel=\"ibm_quantum_platform\",\n",
    "    token=API_KEY,\n",
    "    instance=INSTANCE_CRN, \n",
    "    overwrite=True,\n",
    "    set_as_default=True\n",
    ")"
   ]
  },
  {
   "cell_type": "markdown",
   "metadata": {},
   "source": [
    "# 2. Códigos"
   ]
  },
  {
   "cell_type": "markdown",
   "metadata": {},
   "source": [
    "## 2.1. Roda medição de um qubit aplicado a uma porta Hadamard"
   ]
  },
  {
   "cell_type": "code",
   "execution_count": 5,
   "metadata": {},
   "outputs": [
    {
     "name": "stderr",
     "output_type": "stream",
     "text": [
      "management.get:WARNING:2025-10-05 18:53:14,891: Loading default saved account\n"
     ]
    },
    {
     "name": "stdout",
     "output_type": "stream",
     "text": [
      "Status: QUEUED\n"
     ]
    }
   ],
   "source": [
    "# 1. Inicializar serviço (assume que você já autenticou com save_account)\n",
    "service = QiskitRuntimeService()\n",
    "\n",
    "# 2. Selecionar o backend real menos ocupado\n",
    "backend = service.least_busy(operational=True, simulator=False)\n",
    "\n",
    "# 3. Criar circuito simples (e medir)\n",
    "qc = QuantumCircuit(1)\n",
    "qc.h(0)\n",
    "qc.measure_all()\n",
    "\n",
    "# 4. Transpilar para o backend\n",
    "qc_isa = transpile(qc, backend=backend)\n",
    "\n",
    "# 5. Criar Sampler informando o backend — usando o modo moderno:\n",
    "sampler = Sampler(mode=backend)\n",
    "\n",
    "# 6. Enviar o job (como lista de circuitos)\n",
    "job = sampler.run([qc_isa], shots=1024)\n",
    "job_id = job.job_id()\n",
    "# print(\"Job ID:\", job_id)\n",
    "print(\"Status:\", job.status())"
   ]
  },
  {
   "cell_type": "code",
   "execution_count": 6,
   "metadata": {},
   "outputs": [
    {
     "name": "stdout",
     "output_type": "stream",
     "text": [
      "Status: DONE\n",
      "Counts: {'1': 507, '0': 517}\n"
     ]
    },
    {
     "data": {
      "image/png": "[encoded data removed]",
      "text/plain": [
       "<Figure size 640x480 with 1 Axes>"
      ]
     },
     "metadata": {},
     "output_type": "display_data"
    }
   ],
   "source": [
    "job = service.job(job_id)\n",
    "print(\"Status:\", job.status())\n",
    "\n",
    "if job.status() == \"DONE\":\n",
    "    # 7. Capturar o resultado\n",
    "    result = job.result()\n",
    "    counts = result[0].data.meas.get_counts()\n",
    "\n",
    "    # 8. Visualizar resultados\n",
    "    print(\"Counts:\", counts)\n",
    "    plt.hist(counts)\n",
    "    plt.title(\"Histogram of Measurement Counts\")\n",
    "    plt.xlabel(\"Measurement Outcomes\")\n",
    "    plt.ylabel(\"Counts\")\n",
    "\n",
    "    plt.show()\n",
    "\n",
    "else:\n",
    "    print(\"Job not completed\")"
   ]
  },
  {
   "cell_type": "markdown",
   "metadata": {},
   "source": [
    "## 2.2. Descobrindo número de qubits do backend utilizado"
   ]
  },
  {
   "cell_type": "code",
   "execution_count": 82,
   "metadata": {},
   "outputs": [
    {
     "name": "stdout",
     "output_type": "stream",
     "text": [
      "Backend: ibm_brisbane,\tQubits: 127,\tOperational: True\n",
      "Backend: ibm_torino,\tQubits: 133,\tOperational: True\n"
     ]
    }
   ],
   "source": [
    "backends = service.backends(simulator=False, operational=True)\n",
    "for backend in backends:\n",
    "    print(f\"Backend: {backend.name},\\tQubits: {backend.num_qubits},\\tOperational: {backend.status().operational}\")\n"
   ]
  },
  {
   "cell_type": "markdown",
   "metadata": {},
   "source": [
    "## 2.3. Criando código do algoritmo de Shor"
   ]
  },
  {
   "cell_type": "markdown",
   "metadata": {},
   "source": [
    "### 2.3.1. Frações Contínuas"
   ]
  },
  {
   "cell_type": "code",
   "execution_count": 83,
   "metadata": {},
   "outputs": [],
   "source": [
    "def continued_fraction(x, max_denominator):\n",
    "    \"\"\"Aproxima x como uma fração com denominador ≤ max_denominator\"\"\"\n",
    "    frac = Fraction(x).limit_denominator(max_denominator)\n",
    "    return frac.numerator, frac.denominator\n"
   ]
  },
  {
   "cell_type": "markdown",
   "metadata": {},
   "source": [
    "### 2.3.2. Porta de operação modular"
   ]
  },
  {
   "cell_type": "code",
   "execution_count": 94,
   "metadata": {},
   "outputs": [],
   "source": [
    "def c_mod_mult_gate(b, N):\n",
    "  \"\"\"\n",
    "  Retorna a versão controlada da porta modular que implementa |x⟩ → |b·x mod N⟩\n",
    "  controlada por 1 qubit.\n",
    "\n",
    "  Parâmetros:\n",
    "  - b: inteiro multiplicador (coprimo de N)\n",
    "  - N: inteiro módulo\n",
    "\n",
    "  Retorna:\n",
    "  - Uma UnitaryGate controlada (1 qubit de controle)\n",
    "  \"\"\"\n",
    "  if gcd(b, N) > 1:\n",
    "      raise ValueError(f\"Erro: gcd({b}, {N}) > 1 — b e N devem ser coprimos.\")\n",
    "\n",
    "  n = floor(log(N - 1, 2)) + 1  # Número de qubits necessários para representar N\n",
    "  U = np.zeros((2**n, 2**n))\n",
    "\n",
    "  for x in range(N):\n",
    "      U[b * x % N][x] = 1\n",
    "  for x in range(N, 2**n):\n",
    "      U[x][x] = 1  # Mapeia fora do domínio válido para identidade\n",
    "\n",
    "  base_gate = UnitaryGate(U, label=f\"{b}×mod{N}\")\n",
    "  controlled_gate = base_gate.control()  # Cria a versão com 1 qubit de controle\n",
    "\n",
    "  return controlled_gate"
   ]
  },
  {
   "cell_type": "markdown",
   "metadata": {},
   "source": [
    "### 2.3.3. Define circuito de *Order Finding*"
   ]
  },
  {
   "cell_type": "code",
   "execution_count": 168,
   "metadata": {},
   "outputs": [],
   "source": [
    "def order_finding_circuit(N, a, m=None, view_circuit=False):\n",
    "    if m is None:\n",
    "      m = ceil(2 * log(N, 2)) + 1  # Número de qubits de controle\n",
    "    n = floor(log(N - 1, 2)) + 1  # Número de qubits de dados (registrador modular)\n",
    "\n",
    "    # Registradores\n",
    "    q_control = QuantumRegister(m, 'ctrl')\n",
    "    q_data = QuantumRegister(n, 'data')\n",
    "    c_out = ClassicalRegister(m, 'c')\n",
    "    qc = QuantumCircuit(q_control, q_data, c_out)\n",
    "\n",
    "    # Estado inicial |1⟩ no registrador de dados\n",
    "    qc.x(q_data[0])\n",
    "\n",
    "    # Hadamard em todos os qubits de controle\n",
    "    for i in range(m):\n",
    "        qc.h(q_control[i])\n",
    "\n",
    "    # Aplicar operações controladas: a^(2^i) mod N\n",
    "    for i in range(m):\n",
    "        exponent = 2 ** i\n",
    "        mod_gate = c_mod_mult_gate(pow(a, exponent, N), N)\n",
    "        qc.append(mod_gate, [i] + list(range(m, m + n)))\n",
    "\n",
    "    # Aplicar QFT† no controle\n",
    "    qft_dagger = QFT(num_qubits=m, inverse=True, do_swaps=True).decompose()\n",
    "    qc.append(qft_dagger, q_control)\n",
    "\n",
    "    # Medir o registrador de controle\n",
    "    qc.measure(q_control, c_out)\n",
    "\n",
    "    if view_circuit:\n",
    "        display(qc.draw(output='mpl'))\n",
    "\n",
    "    return qc"
   ]
  },
  {
   "cell_type": "markdown",
   "metadata": {},
   "source": [
    "### 2.3.4. Executa o problema de *Order Finding* no computador quântico"
   ]
  },
  {
   "cell_type": "code",
   "execution_count": 159,
   "metadata": {},
   "outputs": [],
   "source": [
    "def order_finding(N, a, backend = None, shots = 1000): \n",
    "    \"\"\"_summary_\n",
    "    N: inteiro positivo (modulus)\n",
    "    a: inteiro positivo (multiplicador)\n",
    "    backend: backend do Qiskit (opcional, pode ser None para ser simulação)\n",
    "    shots: número de execuções do circuito (default: 1000)\n",
    "    \n",
    "    Resultado:\n",
    "    - Retorna o objeto \"job\".\n",
    "    \"\"\"\n",
    "    # Calcula o número de qubits de controle necessário\n",
    "    m = 4#ceil(2 * log(N, 2)) + 1  # Número de qubits de controle teórico\n",
    "    print(f\"Calculando: m = {m}\")\n",
    "    \n",
    "    # Cria o circuito de busca de ordem\n",
    "    qc = order_finding_circuit(N=N, a=a, m=m, view_circuit=False)\n",
    "    \n",
    "    # Se backend não for fornecido, usa o simulador\n",
    "    if backend is None:\n",
    "\n",
    "        \n",
    "        # === Simulação local ===\n",
    "        backend = Aer.get_backend('qasm_simulator')\n",
    "        transpiled = transpile(qc, backend)\n",
    "        job = backend.run(transpiled, shots=shots, memory=True)\n",
    "\n",
    "        return job\n",
    "    \n",
    "    else:\n",
    "        # === Execução em backend real ===\n",
    "        qc_transp = transpile(qc, backend=backend)\n",
    "\n",
    "        # === Criar Sampler informando o backend — usando o modo moderno ===\n",
    "        sampler = Sampler(mode=backend)\n",
    "\n",
    "        # === Enviar o job (como lista de circuitos) ===\n",
    "        job = sampler.run([qc_transp], shots=shots)\n",
    "        # print(\"Job ID:\", job.job_id())\n",
    "        print(\"Status:\", job.status())     \n",
    "        \n",
    "        return job"
   ]
  },
  {
   "cell_type": "code",
   "execution_count": 169,
   "metadata": {},
   "outputs": [],
   "source": [
    "def process_job(job, m, N, a, real=None):\n",
    "    result = job.result()\n",
    "\n",
    "    if real is None:\n",
    "        # === Simulação local ===\n",
    "        print(\"Processando resultado da simulação local...\")\n",
    "        readings = result.get_counts()\n",
    "    else:\n",
    "        print(\"Processando resultado do backend...\")\n",
    "        pub = result[0]\n",
    "        data_bin = pub.data\n",
    "        bitarray = data_bin.c\n",
    "        readings = bitarray.get_counts()\n",
    "        \n",
    "    \n",
    "    measured_bin = max(readings, key=readings.get) # Leitura mais significativa\n",
    "    measured_int = int(measured_bin, 2)\n",
    "\n",
    "    # === Calcular fase observada ===\n",
    "    phase = measured_int / (2 ** m)\n",
    "\n",
    "    # === Estimar r com frações contínuas ===\n",
    "    print(f\"Phase encontrada = {phase}, para N = {N} e a = {a}\")\n",
    "    r = continued_fraction(phase, N)[1]\n",
    "    \n",
    "    return r"
   ]
  },
  {
   "cell_type": "code",
   "execution_count": 170,
   "metadata": {},
   "outputs": [
    {
     "name": "stdout",
     "output_type": "stream",
     "text": [
      "Calculando: m = 4\n"
     ]
    },
    {
     "name": "stderr",
     "output_type": "stream",
     "text": [
      "C:\\Users\\PC\\AppData\\Local\\Temp\\ipykernel_20240\\1077278735.py:26: DeprecationWarning: The class ``qiskit.circuit.library.basis_change.qft.QFT`` is deprecated as of Qiskit 2.1. It will be removed in Qiskit 3.0. ('Use qiskit.circuit.library.QFTGate or qiskit.synthesis.qft.synth_qft_full instead, for access to all previous arguments.',)\n",
      "  qft_dagger = QFT(num_qubits=m, inverse=True, do_swaps=True).decompose()\n"
     ]
    },
    {
     "name": "stdout",
     "output_type": "stream",
     "text": [
      "Status: QUEUED\n",
      "Status: QUEUED\n"
     ]
    }
   ],
   "source": [
    "# Selecionar novamente o backend real menos ocupado\n",
    "backend = service.least_busy(operational=True, simulator=False)\n",
    "\n",
    "# Executar a busca de ordem com N=15, a=7, e o backend selecionado\n",
    "job = order_finding(N=15, a=7, backend=backend, shots=10000)\n",
    "job_id = job.job_id()\n",
    "# print(\"Job ID:\", job_id)\n",
    "print(\"Status:\", job.status())"
   ]
  },
  {
   "cell_type": "code",
   "execution_count": 171,
   "metadata": {},
   "outputs": [
    {
     "name": "stdout",
     "output_type": "stream",
     "text": [
      "Status: DONE\n",
      "Processando resultado do backend...\n",
      "Phase encontrada = 0.015625, para N = 15 e a = 7\n",
      "Valor estimado de r: 1\n"
     ]
    }
   ],
   "source": [
    "job = service.job(job_id)\n",
    "print(\"Status:\", job.status())\n",
    "\n",
    "if job.status() == \"DONE\":\n",
    "    # Processa o job e calcula o valor de r\n",
    "    r = process_job(job, m=ceil(2 * log(15, 2)) + 1, N=15, a=7, real=True)\n",
    "    print(f\"Valor estimado de r: {r}\")\n",
    "\n",
    "else:\n",
    "    print(\"Job not completed\")"
   ]
  },
  {
   "cell_type": "markdown",
   "metadata": {},
   "source": [
    "# 3. Implementação de outra pessoa \n",
    "- [link](https://medium.com/qiskit/applying-shors-algorithm-bbdfd6f05f7d)"
   ]
  },
  {
   "cell_type": "markdown",
   "metadata": {},
   "source": [
    "## 3.1. Implementação"
   ]
  },
  {
   "cell_type": "code",
   "execution_count": 9,
   "metadata": {},
   "outputs": [],
   "source": [
    "from numpy import gcd\n",
    "from numpy.random import seed, randint\n",
    "# imports for Shor\n",
    "from qiskit import QuantumCircuit\n",
    "from qiskit.visualization import plot_histogram\n",
    "from qiskit.circuit.library import QFT"
   ]
  },
  {
   "cell_type": "code",
   "execution_count": 10,
   "metadata": {},
   "outputs": [],
   "source": [
    "def rsa(P, Q):\n",
    "    N = P * Q # modulus <-- the hard number to crack!\n",
    "\n",
    "    if N % 2 == 0:\n",
    "        val = P if P % 2 == 0 else Q\n",
    "        raise ValueError(f\"{N} can not be divisible by 2.\",\n",
    "                         f\"{P} and {Q} are incompatible with Shor's Algorithm.\")\n",
    "\n",
    "    L = (Q - 1) * (P - 1) # number of non-common factors (1, N)\n",
    "\n",
    "    for E in range(2, L): # between [2, L)\n",
    "        if gcd(L, E) * gcd(N, E) == 1: # coprime with both L and N\n",
    "            break # E is public value\n",
    "\n",
    "    D = 1\n",
    "    while True:\n",
    "        if D * E % L == 1 and D != E and D != N:\n",
    "            break # D is private value\n",
    "        D += 1\n",
    "\n",
    "    return ((E, N), (D, N))\n",
    "\n",
    "def dec(code, key):\n",
    "    D, N = key\n",
    "    return \"\".join([chr(((d**D) % N) + ord('A'))\n",
    "                    for d in [int(d) for d in str(code)]])"
   ]
  },
  {
   "cell_type": "code",
   "execution_count": 35,
   "metadata": {},
   "outputs": [
    {
     "name": "stdout",
     "output_type": "stream",
     "text": [
      "P = 5\n",
      "Q = 3\n",
      "\n",
      " 5 x 3 = 15, True\n",
      "\n",
      "You got lucky! You can skip to the Decypting 213 section, I guess. 😂\n"
     ]
    }
   ],
   "source": [
    "\n",
    "N = 15\n",
    "\n",
    "a = randint(2, N) # 1 < a < N\n",
    "\n",
    "if gcd(a, N) == 1: # a shares no factors\n",
    "    print(f\"{1} < {a} < {N}, {1 < a < N}\")\n",
    "else: # a shares a factor\n",
    "    P = gcd(a, N)\n",
    "    Q = N // gcd(a, N)\n",
    "    print(f\"P = {P}\\nQ = {Q}\\n\\n\",\n",
    "          f\"{P} x {Q} = {N}, {P * Q == N}\\n\")\n",
    "    print(\"You got lucky! You can skip to the Decypting 213 section, I guess. 😂\")"
   ]
  },
  {
   "cell_type": "code",
   "execution_count": 36,
   "metadata": {},
   "outputs": [],
   "source": [
    "def initialize_qubits(qc, n, m):\n",
    "    qc.h(range(n)) # apply hadamard gates\n",
    "    qc.x(n+m-1) # set qubit to 1"
   ]
  },
  {
   "cell_type": "code",
   "execution_count": null,
   "metadata": {},
   "outputs": [
    {
     "name": "stdout",
     "output_type": "stream",
     "text": [
      "Which in your case is\n",
      "\tU(x) = a^x mod 15\n"
     ]
    }
   ],
   "source": [
    "print(f\"Which in your case is\\n\\tU(x) = a^x mod {N}\")\n",
    "def a_x_mod15(a, x):\n",
    "    if a not in [2,7,8,11,13]:\n",
    "        raise ValueError(\"'a' must be 2,7,8,11 or 13\")\n",
    "    U = QuantumCircuit(4)        \n",
    "    for iteration in range(x):\n",
    "        if a in [2,13]:\n",
    "            U.swap(0,1)\n",
    "            U.swap(1,2)\n",
    "            U.swap(2,3)\n",
    "        if a in [7,8]:\n",
    "            U.swap(2,3)\n",
    "            U.swap(1,2)\n",
    "            U.swap(0,1)\n",
    "        if a == 11:\n",
    "            U.swap(1,3)\n",
    "            U.swap(0,2)\n",
    "        if a in [7,11,13]:\n",
    "            for q in range(4):\n",
    "                U.x(q)\n",
    "    U = U.to_gate()\n",
    "    # U.name = f\"U({x})\"\n",
    "    c_U = U.control()\n",
    "    return c_U\n",
    "def modular_exponentiation(qc, n, m, a):\n",
    "    for x in range(n):\n",
    "        exponent = 2**x\n",
    "        qc.append(a_x_mod15(a, exponent), \n",
    "                     [x] + list(range(n, n+m)))"
   ]
  },
  {
   "cell_type": "code",
   "execution_count": 38,
   "metadata": {},
   "outputs": [],
   "source": [
    "def apply_iqft(qc, measurement_qubits):\n",
    "    qc.append(QFT(len(measurement_qubits),\n",
    "                             do_swaps=False).inverse(),\n",
    "                         measurement_qubits)"
   ]
  },
  {
   "cell_type": "code",
   "execution_count": 39,
   "metadata": {},
   "outputs": [],
   "source": [
    "def measure(qc, n):\n",
    "    qc.measure(n, n)"
   ]
  },
  {
   "cell_type": "code",
   "execution_count": 43,
   "metadata": {},
   "outputs": [],
   "source": [
    "def period_finder(n, m, a):\n",
    "    \n",
    "    # set up quantum circuit\n",
    "    qc = QuantumCircuit(n+m, n)\n",
    "    \n",
    "    # initialize the qubits\n",
    "    initialize_qubits(qc, n, m)\n",
    "    qc.barrier()\n",
    "\n",
    "    # apply modular exponentiation\n",
    "    modular_exponentiation(qc, n, m, a)\n",
    "    qc.barrier()\n",
    "\n",
    "    # apply inverse QFT\n",
    "    apply_iqft(qc, range(n))\n",
    "    qc.barrier()\n",
    "\n",
    "    # measure the n measurement qubits\n",
    "    measure(qc, range(n))\n",
    "    \n",
    "    return qc"
   ]
  },
  {
   "cell_type": "code",
   "execution_count": 44,
   "metadata": {},
   "outputs": [
    {
     "name": "stderr",
     "output_type": "stream",
     "text": [
      "C:\\Users\\PC\\AppData\\Local\\Temp\\ipykernel_20240\\455452001.py:2: DeprecationWarning: The class ``qiskit.circuit.library.basis_change.qft.QFT`` is deprecated as of Qiskit 2.1. It will be removed in Qiskit 3.0. ('Use qiskit.circuit.library.QFTGate or qiskit.synthesis.qft.synth_qft_full instead, for access to all previous arguments.',)\n",
      "  qc.append(QFT(len(measurement_qubits),\n"
     ]
    }
   ],
   "source": [
    "n = 4; m = 4\n",
    "a = 2\n",
    "qc = period_finder(n, m, a)\n",
    "# qc.draw(output='mpl')"
   ]
  },
  {
   "cell_type": "markdown",
   "metadata": {},
   "source": [
    "## 3.2. Execução"
   ]
  },
  {
   "cell_type": "code",
   "execution_count": 45,
   "metadata": {},
   "outputs": [
    {
     "name": "stdout",
     "output_type": "stream",
     "text": [
      "Job ID: d3heo09b641c738m5u9g submitted at 2025-10-05 19:06:57.316493\n"
     ]
    }
   ],
   "source": [
    "# Selecionar novamente o backend real menos ocupado\n",
    "backend = service.least_busy(operational=True, simulator=False)\n",
    "\n",
    "# === Execução em backend real ===\n",
    "qc_transp = transpile(qc, backend=backend)\n",
    "\n",
    "# === Criar Sampler informando o backend — usando o modo moderno ===\n",
    "sampler = Sampler(mode=backend)\n",
    "\n",
    "# === Enviar o job (como lista de circuitos) ===\n",
    "job = sampler.run([qc_transp], shots=1000)\n",
    "\n",
    "# Executar a busca de ordem com N=15, a=7, e o backend selecionado\n",
    "job_id = job.job_id()\n",
    "print(f\"Job ID: {job_id} submitted at {datetime.datetime.now()}\")\n",
    "\n",
    "\n"
   ]
  },
  {
   "cell_type": "code",
   "execution_count": null,
   "metadata": {},
   "outputs": [
    {
     "name": "stdout",
     "output_type": "stream",
     "text": [
      "Status: DONE\n",
      "Phase encontrada = 0.125, para N = 15 e a = 2\n",
      "Valor estimado de r: 8\n"
     ]
    }
   ],
   "source": [
    "job = service.job(job_id)\n",
    "print(\"Status:\", job.status())\n",
    "\n",
    "if job.status() == \"DONE\":\n",
    "    # Processa o job e calcula o valor de r\n",
    "    result = job.result()\n",
    "    data = result[0].data\n",
    "\n",
    "    ba = data[\"c\"]  # BitArray, pois o registrador clássico chama-se 'c'\n",
    "\n",
    "    # A partir do BitArray, você pode obter contagens\n",
    "    counts = ba.get_counts()\n",
    "    # ou diretamente como inteiros\n",
    "    int_counts = ba.get_int_counts()\n",
    "\n",
    "    # Pegar o valor mais frequente\n",
    "    most_likely_bitstring = max(counts, key=counts.get)\n",
    "    measured_value = int(most_likely_bitstring, 2)\n",
    "\n",
    "    # === Calcular fase observada ===\n",
    "    phase = measured_value / (2 ** m)\n",
    "\n",
    "    # === Estimar r com frações contínuas ===\n",
    "    print(f\"Phase encontrada = {phase}, para N = {N} e a = {a}\")\n",
    "    \n",
    "    r = continued_fraction(phase, N)[1]\n",
    "\n",
    "    print(f\"Valor estimado de r: {r}\")\n"
   ]
  },
  {
   "cell_type": "markdown",
   "metadata": {},
   "source": [
    "## 3.3. Segunda tentativa para implementar o mesmo link"
   ]
  },
  {
   "cell_type": "code",
   "execution_count": 77,
   "metadata": {},
   "outputs": [],
   "source": [
    "def run_shor_on_hardware(qc, service, backend=None, shots=1000, job_id=None):\n",
    "    # se backend não for dado, seleciona menos ocupado\n",
    "    # if backend is None:\n",
    "    #     backend = service.least_busy(operational=True, simulator=False)\n",
    "    \n",
    "    # qc_t = transpile(qc, backend=backend)\n",
    "    # sampler = Sampler(mode=backend)\n",
    "    \n",
    "    # job = sampler.run([qc_t], shots=shots)\n",
    "    # job_id = job.job_id()\n",
    "    # print(f\"Job ID: {job_id} submitted at {datetime.datetime.now()}\")\n",
    "    \n",
    "    # Espera (ou poll) até o job estar concluído...\n",
    "    job = service.job(job_id)\n",
    "    status = job.status()\n",
    "    print(\"Status:\", status)\n",
    "    if status != \"DONE\" and status != \"COMPLETED\":\n",
    "        # você pode esperar ou lançar erro\n",
    "        raise RuntimeError(f\"Job não finalizado: {status}\")\n",
    "    \n",
    "    result = job.result()\n",
    "    data = result[0].data  # DataBin ou equivalente\n",
    "    \n",
    "    # O nome do registrador clássico usado no circuito:\n",
    "    # esse nome deve ser igual ao que você deu no seu qc\n",
    "    classical_reg_name = \"c\"  # ou outro nome que você usou\n",
    "    ba = data[classical_reg_name]  # isso retorna um BitArray\n",
    "    \n",
    "    # obtém contagens (bitstrings) e inteiros\n",
    "    counts = ba.get_counts()  # dict: {bitstring: frequência}\n",
    "    int_counts = ba.get_int_counts()  # dict: {inteiro: frequência}\n",
    "    \n",
    "    # pegar valor mais provável\n",
    "    most_likely_bit = max(counts, key=counts.get)\n",
    "    most_likely_int = max(int_counts, key=int_counts.get)\n",
    "    \n",
    "    print(\"Bitstring mais provável:\", most_likely_bit)\n",
    "    print(\"Valor decimal mais provável:\", most_likely_int)\n",
    "    \n",
    "    return most_likely_bit, most_likely_int, counts, int_counts\n"
   ]
  },
  {
   "cell_type": "code",
   "execution_count": 72,
   "metadata": {},
   "outputs": [],
   "source": [
    "def classical_postprocessing(x, a, N):\n",
    "    # x é o valor de fase medido (inteiro)\n",
    "    # verificar que x não é zero, que é par, etc\n",
    "    if x % 2 != 0:\n",
    "        return None  # descartado, tente outro resultado / repetição\n",
    "    \n",
    "    # calcular possíveis fatores\n",
    "    plus = pow(a, x//2) + 1\n",
    "    minus = pow(a, x//2) - 1\n",
    "    from math import gcd\n",
    "    \n",
    "    g1 = gcd(plus, N)\n",
    "    g2 = gcd(minus, N)\n",
    "    if 1 < g1 < N:\n",
    "        return g1, N // g1\n",
    "    if 1 < g2 < N:\n",
    "        return g2, N // g2\n",
    "    \n",
    "    return None\n"
   ]
  },
  {
   "cell_type": "code",
   "execution_count": 80,
   "metadata": {},
   "outputs": [],
   "source": [
    "def classical_postprocessing(x, a, N):\n",
    "    # x é o valor de fase medido (inteiro)\n",
    "    # verificar que x não é zero, que é par, etc\n",
    "    print(f\"x = {x}\")\n",
    "    print(f\"a = {a}, N = {N}\")\n",
    "    if x % 2 != 0:\n",
    "        return None  # descartado, tente outro resultado / repetição\n",
    "    \n",
    "    # calcular possíveis fatores\n",
    "    plus = pow(a, x//2) + 1\n",
    "    minus = pow(a, x//2) - 1\n",
    "    from math import gcd\n",
    "    \n",
    "    g1 = gcd(plus, N)\n",
    "    g2 = gcd(minus, N)\n",
    "    if 1 < g1 < N:\n",
    "        return g1, N // g1\n",
    "    if 1 < g2 < N:\n",
    "        return g2, N // g2\n",
    "    \n",
    "    return None\n"
   ]
  },
  {
   "cell_type": "code",
   "execution_count": 81,
   "metadata": {},
   "outputs": [
    {
     "name": "stdout",
     "output_type": "stream",
     "text": [
      "Status: DONE\n",
      "Bitstring mais provável: 1100\n",
      "Valor decimal mais provável: 12\n",
      "x = 12\n",
      "a = 7, N = 15\n",
      "Fatores encontrados: (5, 3)\n"
     ]
    }
   ],
   "source": [
    "# supondo que você tenha seu circuito qc_shor para N=15, a=7\n",
    "job_id = \"d3hev3c1nk1s739og7t0\"\n",
    "bitstr, intval, counts, int_counts = run_shor_on_hardware(qc, service, backend=backend, shots=1000, job_id=job_id)\n",
    "fatores = classical_postprocessing(intval, a=7, N=15)\n",
    "if fatores:\n",
    "    print(\"Fatores encontrados:\", fatores)\n",
    "else:\n",
    "    print(\"Tentativa inválida, repetir...\")\n"
   ]
  },
  {
   "cell_type": "markdown",
   "metadata": {},
   "source": [
    "# 4. Análise"
   ]
  },
  {
   "cell_type": "markdown",
   "metadata": {},
   "source": [
    "O código referenciado do Medium obteve sucesso na implementação com um computador quântico real, encontrando um valor de `r` que conseguisse determinar um fator primo do número inteiro `N`.\n",
    "\n",
    "No teste realizado, o valor da ordem `r` para o número `a = 7` na base `N = 15` foi `8`. Sabe-se que o real valor da ordem modular de `7` base `15` na verdade é `4`. Todavia, como o circuito tem característica periódica, valores múltiplos de `4` também resultam em um resultado positivo, onde $ a ^ r mod\\: N = 1$ .\n",
    "\n",
    "Ao comparar-se o circuito do artigo com o circuito implementado no projeto, verificou-se uma diferença: a porta modular do circuito do projeto é dinâmica, enquanto a do circuito do artigo é estática. Isso significa que a implementação do projeto pode ser utilizada para quaisquer valores de `N`, enquanto a do artigo funciona apenas para `N = 15`. A implementação da porta dinâmica consiste em criar uma matriz unitária que efetivamente representa toda a operção modular. O seu ponto negativo é que o seu crescimento é exponencial, tornando-se de altíssima complexidade de compilação. Já a porta estática é uma integração de diversas portas SWAP já existentes, o que simplifica muito sua implementação e compilação pela API do Qiskit."
   ]
  },
  {
   "cell_type": "markdown",
   "metadata": {},
   "source": [
    "# 5. Referências"
   ]
  },
  {
   "cell_type": "code",
   "execution_count": 86,
   "metadata": {},
   "outputs": [
    {
     "name": "stdout",
     "output_type": "stream",
     "text": [
      "https://quantum.cloud.ibm.com/instances\n",
      "https://quantum.cloud.ibm.com/docs/en/api/qiskit-ibm-runtime/ibm-backend\n"
     ]
    }
   ],
   "source": [
    "print(\"https://quantum.cloud.ibm.com/instances\")\n",
    "print(\"https://quantum.cloud.ibm.com/docs/en/api/qiskit-ibm-runtime/ibm-backend\")"
   ]
  }
 ],
 "metadata": {
  "kernelspec": {
   "display_name": "venv",
   "language": "python",
   "name": "python3"
  },
  "language_info": {
   "codemirror_mode": {
    "name": "ipython",
    "version": 3
   },
   "file_extension": ".py",
   "mimetype": "text/x-python",
   "name": "python",
   "nbconvert_exporter": "python",
   "pygments_lexer": "ipython3",
   "version": "3.13.7"
  }
 },
 "nbformat": 4,
 "nbformat_minor": 2
}
